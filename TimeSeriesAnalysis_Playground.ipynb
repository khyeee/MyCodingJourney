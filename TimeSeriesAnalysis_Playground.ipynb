{
 "cells": [
  {
   "cell_type": "code",
   "execution_count": 18,
   "metadata": {},
   "outputs": [],
   "source": [
    "import yfinance as yf\n",
    "import pandas as pd\n",
    "import numpy as np"
   ]
  },
  {
   "cell_type": "code",
   "execution_count": 3,
   "metadata": {},
   "outputs": [
    {
     "name": "stderr",
     "output_type": "stream",
     "text": [
      "[*********************100%***********************]  1 of 1 completed\n"
     ]
    }
   ],
   "source": [
    "data = yf.download(\"BZ=F\", period=\"1y\")"
   ]
  },
  {
   "cell_type": "code",
   "execution_count": 4,
   "metadata": {},
   "outputs": [
    {
     "data": {
      "text/html": [
       "<div>\n",
       "<style scoped>\n",
       "    .dataframe tbody tr th:only-of-type {\n",
       "        vertical-align: middle;\n",
       "    }\n",
       "\n",
       "    .dataframe tbody tr th {\n",
       "        vertical-align: top;\n",
       "    }\n",
       "\n",
       "    .dataframe thead th {\n",
       "        text-align: right;\n",
       "    }\n",
       "</style>\n",
       "<table border=\"1\" class=\"dataframe\">\n",
       "  <thead>\n",
       "    <tr style=\"text-align: right;\">\n",
       "      <th></th>\n",
       "      <th>Open</th>\n",
       "      <th>High</th>\n",
       "      <th>Low</th>\n",
       "      <th>Close</th>\n",
       "      <th>Adj Close</th>\n",
       "      <th>Volume</th>\n",
       "    </tr>\n",
       "    <tr>\n",
       "      <th>Date</th>\n",
       "      <th></th>\n",
       "      <th></th>\n",
       "      <th></th>\n",
       "      <th></th>\n",
       "      <th></th>\n",
       "      <th></th>\n",
       "    </tr>\n",
       "  </thead>\n",
       "  <tbody>\n",
       "    <tr>\n",
       "      <th>2023-09-18</th>\n",
       "      <td>94.199997</td>\n",
       "      <td>94.949997</td>\n",
       "      <td>93.779999</td>\n",
       "      <td>94.430000</td>\n",
       "      <td>94.430000</td>\n",
       "      <td>33918</td>\n",
       "    </tr>\n",
       "    <tr>\n",
       "      <th>2023-09-19</th>\n",
       "      <td>94.629997</td>\n",
       "      <td>95.949997</td>\n",
       "      <td>94.169998</td>\n",
       "      <td>94.339996</td>\n",
       "      <td>94.339996</td>\n",
       "      <td>43614</td>\n",
       "    </tr>\n",
       "    <tr>\n",
       "      <th>2023-09-20</th>\n",
       "      <td>94.480003</td>\n",
       "      <td>94.730003</td>\n",
       "      <td>92.760002</td>\n",
       "      <td>93.529999</td>\n",
       "      <td>93.529999</td>\n",
       "      <td>43515</td>\n",
       "    </tr>\n",
       "    <tr>\n",
       "      <th>2023-09-21</th>\n",
       "      <td>93.220001</td>\n",
       "      <td>94.599998</td>\n",
       "      <td>92.199997</td>\n",
       "      <td>93.300003</td>\n",
       "      <td>93.300003</td>\n",
       "      <td>38711</td>\n",
       "    </tr>\n",
       "    <tr>\n",
       "      <th>2023-09-22</th>\n",
       "      <td>93.320000</td>\n",
       "      <td>94.629997</td>\n",
       "      <td>92.800003</td>\n",
       "      <td>93.269997</td>\n",
       "      <td>93.269997</td>\n",
       "      <td>31511</td>\n",
       "    </tr>\n",
       "  </tbody>\n",
       "</table>\n",
       "</div>"
      ],
      "text/plain": [
       "                 Open       High        Low      Close  Adj Close  Volume\n",
       "Date                                                                     \n",
       "2023-09-18  94.199997  94.949997  93.779999  94.430000  94.430000   33918\n",
       "2023-09-19  94.629997  95.949997  94.169998  94.339996  94.339996   43614\n",
       "2023-09-20  94.480003  94.730003  92.760002  93.529999  93.529999   43515\n",
       "2023-09-21  93.220001  94.599998  92.199997  93.300003  93.300003   38711\n",
       "2023-09-22  93.320000  94.629997  92.800003  93.269997  93.269997   31511"
      ]
     },
     "execution_count": 4,
     "metadata": {},
     "output_type": "execute_result"
    }
   ],
   "source": [
    "data.head()"
   ]
  },
  {
   "cell_type": "code",
   "execution_count": 6,
   "metadata": {},
   "outputs": [
    {
     "data": {
      "text/html": [
       "<div>\n",
       "<style scoped>\n",
       "    .dataframe tbody tr th:only-of-type {\n",
       "        vertical-align: middle;\n",
       "    }\n",
       "\n",
       "    .dataframe tbody tr th {\n",
       "        vertical-align: top;\n",
       "    }\n",
       "\n",
       "    .dataframe thead th {\n",
       "        text-align: right;\n",
       "    }\n",
       "</style>\n",
       "<table border=\"1\" class=\"dataframe\">\n",
       "  <thead>\n",
       "    <tr style=\"text-align: right;\">\n",
       "      <th></th>\n",
       "      <th>Open</th>\n",
       "      <th>High</th>\n",
       "      <th>Low</th>\n",
       "      <th>Close</th>\n",
       "      <th>Adj Close</th>\n",
       "      <th>Volume</th>\n",
       "    </tr>\n",
       "    <tr>\n",
       "      <th>Date</th>\n",
       "      <th></th>\n",
       "      <th></th>\n",
       "      <th></th>\n",
       "      <th></th>\n",
       "      <th></th>\n",
       "      <th></th>\n",
       "    </tr>\n",
       "  </thead>\n",
       "  <tbody>\n",
       "    <tr>\n",
       "      <th>2023-09-18</th>\n",
       "      <td>94.199997</td>\n",
       "      <td>94.949997</td>\n",
       "      <td>93.779999</td>\n",
       "      <td>94.430000</td>\n",
       "      <td>94.430000</td>\n",
       "      <td>33918</td>\n",
       "    </tr>\n",
       "    <tr>\n",
       "      <th>2023-09-19</th>\n",
       "      <td>94.629997</td>\n",
       "      <td>95.949997</td>\n",
       "      <td>94.169998</td>\n",
       "      <td>94.339996</td>\n",
       "      <td>94.339996</td>\n",
       "      <td>43614</td>\n",
       "    </tr>\n",
       "    <tr>\n",
       "      <th>2023-09-20</th>\n",
       "      <td>94.480003</td>\n",
       "      <td>94.730003</td>\n",
       "      <td>92.760002</td>\n",
       "      <td>93.529999</td>\n",
       "      <td>93.529999</td>\n",
       "      <td>43515</td>\n",
       "    </tr>\n",
       "    <tr>\n",
       "      <th>2023-09-21</th>\n",
       "      <td>93.220001</td>\n",
       "      <td>94.599998</td>\n",
       "      <td>92.199997</td>\n",
       "      <td>93.300003</td>\n",
       "      <td>93.300003</td>\n",
       "      <td>38711</td>\n",
       "    </tr>\n",
       "    <tr>\n",
       "      <th>2023-09-22</th>\n",
       "      <td>93.320000</td>\n",
       "      <td>94.629997</td>\n",
       "      <td>92.800003</td>\n",
       "      <td>93.269997</td>\n",
       "      <td>93.269997</td>\n",
       "      <td>31511</td>\n",
       "    </tr>\n",
       "  </tbody>\n",
       "</table>\n",
       "</div>"
      ],
      "text/plain": [
       "                 Open       High        Low      Close  Adj Close  Volume\n",
       "Date                                                                     \n",
       "2023-09-18  94.199997  94.949997  93.779999  94.430000  94.430000   33918\n",
       "2023-09-19  94.629997  95.949997  94.169998  94.339996  94.339996   43614\n",
       "2023-09-20  94.480003  94.730003  92.760002  93.529999  93.529999   43515\n",
       "2023-09-21  93.220001  94.599998  92.199997  93.300003  93.300003   38711\n",
       "2023-09-22  93.320000  94.629997  92.800003  93.269997  93.269997   31511"
      ]
     },
     "execution_count": 6,
     "metadata": {},
     "output_type": "execute_result"
    }
   ],
   "source": [
    "df = data.copy()\n",
    "df.head()"
   ]
  },
  {
   "cell_type": "code",
   "execution_count": 7,
   "metadata": {},
   "outputs": [],
   "source": [
    "df['logReturns'] = np.log(df.Close/df.Close.shift(1))"
   ]
  },
  {
   "cell_type": "code",
   "execution_count": 14,
   "metadata": {},
   "outputs": [],
   "source": [
    "df['s1'] = df.Close.shift(1)"
   ]
  },
  {
   "cell_type": "code",
   "execution_count": 8,
   "metadata": {},
   "outputs": [],
   "source": [
    "import matplotlib.pyplot as plt"
   ]
  },
  {
   "cell_type": "code",
   "execution_count": 19,
   "metadata": {},
   "outputs": [
    {
     "data": {
      "text/plain": [
       "count    251.000000\n",
       "mean      -0.001039\n",
       "std        0.017981\n",
       "min       -0.066232\n",
       "25%       -0.010806\n",
       "50%       -0.000686\n",
       "75%        0.010729\n",
       "max        0.055303\n",
       "Name: logReturns, dtype: float64"
      ]
     },
     "execution_count": 19,
     "metadata": {},
     "output_type": "execute_result"
    }
   ],
   "source": [
    "df.logReturns.describe()"
   ]
  },
  {
   "cell_type": "code",
   "execution_count": 18,
   "metadata": {},
   "outputs": [
    {
     "data": {
      "text/plain": [
       "[<matplotlib.lines.Line2D at 0x18e52f0da30>]"
      ]
     },
     "execution_count": 18,
     "metadata": {},
     "output_type": "execute_result"
    },
    {
     "data": {
      "image/png": "[encoded data removed]",
      "text/plain": [
       "<Figure size 640x480 with 1 Axes>"
      ]
     },
     "metadata": {},
     "output_type": "display_data"
    }
   ],
   "source": [
    "plt.plot(df.logReturns)"
   ]
  },
  {
   "cell_type": "markdown",
   "metadata": {},
   "source": [
    "#### Testing a time series is stationary"
   ]
  },
  {
   "cell_type": "code",
   "execution_count": 9,
   "metadata": {},
   "outputs": [
    {
     "name": "stdout",
     "output_type": "stream",
     "text": [
      "ADF Test Statistic: -15.687876260794894\n",
      "p-value: 1.4459156929119422e-28\n",
      "Critical Values: {'1%': np.float64(-3.456780859712), '5%': np.float64(-2.8731715065600003), '10%': np.float64(-2.572968544)}\n",
      "KPSS Test Statistic: 0.088040882091268\n",
      "p-value: 0.1\n",
      "Critical Values: {'10%': 0.347, '5%': 0.463, '2.5%': 0.574, '1%': 0.739}\n"
     ]
    },
    {
     "name": "stderr",
     "output_type": "stream",
     "text": [
      "C:\\Users\\kywong\\AppData\\Local\\Temp\\ipykernel_28576\\617058408.py:13: InterpolationWarning: The test statistic is outside of the range of p-values available in the\n",
      "look-up table. The actual p-value is greater than the p-value returned.\n",
      "\n",
      "  kpss_result = kpss(mySeries)\n"
     ]
    }
   ],
   "source": [
    "from statsmodels.tsa.stattools import adfuller, kpss\n",
    "\n",
    "mySeries = df.logReturns\n",
    "mySeries = mySeries.dropna()\n",
    "\n",
    "# ADF test\n",
    "adf_result = adfuller(mySeries)\n",
    "print('ADF Test Statistic:', adf_result[0])\n",
    "print('p-value:', adf_result[1])\n",
    "print('Critical Values:', adf_result[4])\n",
    "\n",
    "# KPSS test\n",
    "kpss_result = kpss(mySeries)\n",
    "print('KPSS Test Statistic:', kpss_result[0])\n",
    "print('p-value:', kpss_result[1])\n",
    "print('Critical Values:', kpss_result[3])"
   ]
  },
  {
   "cell_type": "markdown",
   "metadata": {},
   "source": [
    "#### Visually Testing if a time series has auto correlation"
   ]
  },
  {
   "cell_type": "code",
   "execution_count": 11,
   "metadata": {},
   "outputs": [
    {
     "data": {
      "image/png": "[encoded data removed]",
      "text/plain": [
       "<Figure size 640x480 with 1 Axes>"
      ]
     },
     "execution_count": 11,
     "metadata": {},
     "output_type": "execute_result"
    },
    {
     "data": {
      "image/png": "[encoded data removed]",
      "text/plain": [
       "<Figure size 640x480 with 1 Axes>"
      ]
     },
     "metadata": {},
     "output_type": "display_data"
    },
    {
     "data": {
      "image/png": "[encoded data removed]",
      "text/plain": [
       "<Figure size 640x480 with 1 Axes>"
      ]
     },
     "metadata": {},
     "output_type": "display_data"
    }
   ],
   "source": [
    "from statsmodels.graphics.tsaplots import plot_acf, plot_pacf\n",
    "\n",
    "# Assuming 'series' is your time series data\n",
    "plot_acf(mySeries)\n",
    "plot_pacf(mySeries)"
   ]
  },
  {
   "cell_type": "markdown",
   "metadata": {},
   "source": [
    "#### Further testing on autocorrelated-ness (Numbers instead of autocorrelation)\n",
    "\n",
    "Results are in array form where indices correspond to lag number. (i.e. index=0, means lag=1)\n",
    "\n",
    "Higher Ljung-Box Statistic = Higher autocorrelation\n",
    "Lower p_stats = more significant the Ljung-Box stats are. meaning more autocorrelation, meaning better to be used for forecasting"
   ]
  },
  {
   "cell_type": "code",
   "execution_count": 16,
   "metadata": {},
   "outputs": [
    {
     "name": "stdout",
     "output_type": "stream",
     "text": [
      "Ljung-Box Statistic: [43.07692308 43.07710996 43.10140685 43.40288586 43.43650038 43.8503229\n",
      " 43.98249594 43.98266977 43.98394077 44.97089789 45.01160895 45.11538126\n",
      " 45.39896404 45.42428498 45.46197828 45.51345324 45.64978348 46.25803631\n",
      " 46.93537346 47.12737636 47.15495347 47.15910633 48.09246541 48.14392156]\n",
      "p-value: [5.26293752e-11 4.42511359e-10 2.34196814e-09 8.53564901e-09\n",
      " 3.01384575e-08 7.91486904e-08 2.15383299e-07 5.73264158e-07\n",
      " 1.42108232e-06 2.20117495e-06 4.82941993e-06 9.84633617e-06\n",
      " 1.79508939e-05 3.48041545e-05 6.47206548e-05 1.15736069e-04\n",
      " 1.94755747e-04 2.72011041e-04 3.64851022e-04 5.63179604e-04\n",
      " 8.95060626e-04 1.39912218e-03 1.62810390e-03 2.42256273e-03]\n"
     ]
    }
   ],
   "source": [
    "from statsmodels.tsa.stattools import acf, q_stat\n",
    "\n",
    "acf_vals = acf(mySeries)\n",
    "lb_statistic, p_value = q_stat(acf_vals, nobs=40)  # Adjust the lag order as needed\n",
    "print(\"Ljung-Box Statistic:\", lb_statistic)\n",
    "print(\"p-value:\", p_value)"
   ]
  },
  {
   "cell_type": "markdown",
   "metadata": {},
   "source": [
    "#### Simulating White Noise\n",
    "\n",
    "- White nose time series is defined by a ```zero mean```, ```constant variance```, and ```zero correlation```.\n",
    "    - All white noise time series are stationary, but not all stationary time series is white noise. - __Stationary time series can be classified as not white noise by its autocorrelation.__\n",
    "- White noise time series cannot be predicted/forecasted."
   ]
  },
  {
   "cell_type": "code",
   "execution_count": 19,
   "metadata": {},
   "outputs": [
    {
     "name": "stdout",
     "output_type": "stream",
     "text": [
      "count    1000.000000\n",
      "mean       -0.013222\n",
      "std         1.003685\n",
      "min        -2.961214\n",
      "25%        -0.684192\n",
      "50%        -0.010934\n",
      "75%         0.703915\n",
      "max         2.737260\n",
      "dtype: float64\n"
     ]
    }
   ],
   "source": [
    "import random\n",
    "\n",
    "random.seed(1)\n",
    "rndSeries = [random.gauss(0.0,1.0) for i in range(1000)]\n",
    "rndSeries = pd.Series(rndSeries)\n",
    "\n",
    "print(rndSeries.describe())"
   ]
  },
  {
   "cell_type": "code",
   "execution_count": 20,
   "metadata": {},
   "outputs": [
    {
     "data": {
      "text/plain": [
       "<Axes: >"
      ]
     },
     "execution_count": 20,
     "metadata": {},
     "output_type": "execute_result"
    },
    {
     "data": {
      "image/png": "[encoded data removed]",
      "text/plain": [
       "<Figure size 640x480 with 1 Axes>"
      ]
     },
     "metadata": {},
     "output_type": "display_data"
    }
   ],
   "source": [
    "rndSeries.plot()"
   ]
  },
  {
   "cell_type": "code",
   "execution_count": 21,
   "metadata": {},
   "outputs": [
    {
     "data": {
      "text/plain": [
       "<Axes: >"
      ]
     },
     "execution_count": 21,
     "metadata": {},
     "output_type": "execute_result"
    },
    {
     "data": {
      "image/png": "[encoded data removed]",
      "text/plain": [
       "<Figure size 640x480 with 1 Axes>"
      ]
     },
     "metadata": {},
     "output_type": "display_data"
    }
   ],
   "source": [
    "rndSeries.hist()"
   ]
  },
  {
   "cell_type": "code",
   "execution_count": 22,
   "metadata": {},
   "outputs": [
    {
     "data": {
      "text/plain": [
       "<Axes: xlabel='Lag', ylabel='Autocorrelation'>"
      ]
     },
     "execution_count": 22,
     "metadata": {},
     "output_type": "execute_result"
    },
    {
     "data": {
      "image/png": "[encoded data removed]",
      "text/plain": [
       "<Figure size 640x480 with 1 Axes>"
      ]
     },
     "metadata": {},
     "output_type": "display_data"
    }
   ],
   "source": [
    "pd.plotting.autocorrelation_plot(rndSeries)"
   ]
  },
  {
   "cell_type": "code",
   "execution_count": 17,
   "metadata": {},
   "outputs": [
    {
     "ename": "TypeError",
     "evalue": "cannot concatenate object of type '<class 'numpy.ndarray'>'; only Series and DataFrame objs are valid",
     "output_type": "error",
     "traceback": [
      "\u001b[1;31m---------------------------------------------------------------------------\u001b[0m",
      "\u001b[1;31mTypeError\u001b[0m                                 Traceback (most recent call last)",
      "Cell \u001b[1;32mIn[17], line 2\u001b[0m\n\u001b[0;32m      1\u001b[0m res \u001b[38;5;241m=\u001b[39m pd\u001b[38;5;241m.\u001b[39mDataFrame()\n\u001b[1;32m----> 2\u001b[0m res \u001b[38;5;241m=\u001b[39m \u001b[43mpd\u001b[49m\u001b[38;5;241;43m.\u001b[39;49m\u001b[43mconcat\u001b[49m\u001b[43m(\u001b[49m\u001b[43m[\u001b[49m\u001b[43mlb_statistic\u001b[49m\u001b[43m,\u001b[49m\u001b[43m \u001b[49m\u001b[43mp_value\u001b[49m\u001b[43m]\u001b[49m\u001b[43m)\u001b[49m\n\u001b[0;32m      3\u001b[0m res\n",
      "File \u001b[1;32mc:\\Users\\kywong\\Desktop\\MyVSCodeProjects\\ML_Playground_Python\\.venv\\Lib\\site-packages\\pandas\\core\\reshape\\concat.py:382\u001b[0m, in \u001b[0;36mconcat\u001b[1;34m(objs, axis, join, ignore_index, keys, levels, names, verify_integrity, sort, copy)\u001b[0m\n\u001b[0;32m    379\u001b[0m \u001b[38;5;28;01melif\u001b[39;00m copy \u001b[38;5;129;01mand\u001b[39;00m using_copy_on_write():\n\u001b[0;32m    380\u001b[0m     copy \u001b[38;5;241m=\u001b[39m \u001b[38;5;28;01mFalse\u001b[39;00m\n\u001b[1;32m--> 382\u001b[0m op \u001b[38;5;241m=\u001b[39m \u001b[43m_Concatenator\u001b[49m\u001b[43m(\u001b[49m\n\u001b[0;32m    383\u001b[0m \u001b[43m    \u001b[49m\u001b[43mobjs\u001b[49m\u001b[43m,\u001b[49m\n\u001b[0;32m    384\u001b[0m \u001b[43m    \u001b[49m\u001b[43maxis\u001b[49m\u001b[38;5;241;43m=\u001b[39;49m\u001b[43maxis\u001b[49m\u001b[43m,\u001b[49m\n\u001b[0;32m    385\u001b[0m \u001b[43m    \u001b[49m\u001b[43mignore_index\u001b[49m\u001b[38;5;241;43m=\u001b[39;49m\u001b[43mignore_index\u001b[49m\u001b[43m,\u001b[49m\n\u001b[0;32m    386\u001b[0m \u001b[43m    \u001b[49m\u001b[43mjoin\u001b[49m\u001b[38;5;241;43m=\u001b[39;49m\u001b[43mjoin\u001b[49m\u001b[43m,\u001b[49m\n\u001b[0;32m    387\u001b[0m \u001b[43m    \u001b[49m\u001b[43mkeys\u001b[49m\u001b[38;5;241;43m=\u001b[39;49m\u001b[43mkeys\u001b[49m\u001b[43m,\u001b[49m\n\u001b[0;32m    388\u001b[0m \u001b[43m    \u001b[49m\u001b[43mlevels\u001b[49m\u001b[38;5;241;43m=\u001b[39;49m\u001b[43mlevels\u001b[49m\u001b[43m,\u001b[49m\n\u001b[0;32m    389\u001b[0m \u001b[43m    \u001b[49m\u001b[43mnames\u001b[49m\u001b[38;5;241;43m=\u001b[39;49m\u001b[43mnames\u001b[49m\u001b[43m,\u001b[49m\n\u001b[0;32m    390\u001b[0m \u001b[43m    \u001b[49m\u001b[43mverify_integrity\u001b[49m\u001b[38;5;241;43m=\u001b[39;49m\u001b[43mverify_integrity\u001b[49m\u001b[43m,\u001b[49m\n\u001b[0;32m    391\u001b[0m \u001b[43m    \u001b[49m\u001b[43mcopy\u001b[49m\u001b[38;5;241;43m=\u001b[39;49m\u001b[43mcopy\u001b[49m\u001b[43m,\u001b[49m\n\u001b[0;32m    392\u001b[0m \u001b[43m    \u001b[49m\u001b[43msort\u001b[49m\u001b[38;5;241;43m=\u001b[39;49m\u001b[43msort\u001b[49m\u001b[43m,\u001b[49m\n\u001b[0;32m    393\u001b[0m \u001b[43m\u001b[49m\u001b[43m)\u001b[49m\n\u001b[0;32m    395\u001b[0m \u001b[38;5;28;01mreturn\u001b[39;00m op\u001b[38;5;241m.\u001b[39mget_result()\n",
      "File \u001b[1;32mc:\\Users\\kywong\\Desktop\\MyVSCodeProjects\\ML_Playground_Python\\.venv\\Lib\\site-packages\\pandas\\core\\reshape\\concat.py:448\u001b[0m, in \u001b[0;36m_Concatenator.__init__\u001b[1;34m(self, objs, axis, join, keys, levels, names, ignore_index, verify_integrity, copy, sort)\u001b[0m\n\u001b[0;32m    445\u001b[0m objs, keys \u001b[38;5;241m=\u001b[39m \u001b[38;5;28mself\u001b[39m\u001b[38;5;241m.\u001b[39m_clean_keys_and_objs(objs, keys)\n\u001b[0;32m    447\u001b[0m \u001b[38;5;66;03m# figure out what our result ndim is going to be\u001b[39;00m\n\u001b[1;32m--> 448\u001b[0m ndims \u001b[38;5;241m=\u001b[39m \u001b[38;5;28;43mself\u001b[39;49m\u001b[38;5;241;43m.\u001b[39;49m\u001b[43m_get_ndims\u001b[49m\u001b[43m(\u001b[49m\u001b[43mobjs\u001b[49m\u001b[43m)\u001b[49m\n\u001b[0;32m    449\u001b[0m sample, objs \u001b[38;5;241m=\u001b[39m \u001b[38;5;28mself\u001b[39m\u001b[38;5;241m.\u001b[39m_get_sample_object(objs, ndims, keys, names, levels)\n\u001b[0;32m    451\u001b[0m \u001b[38;5;66;03m# Standardize axis parameter to int\u001b[39;00m\n",
      "File \u001b[1;32mc:\\Users\\kywong\\Desktop\\MyVSCodeProjects\\ML_Playground_Python\\.venv\\Lib\\site-packages\\pandas\\core\\reshape\\concat.py:489\u001b[0m, in \u001b[0;36m_Concatenator._get_ndims\u001b[1;34m(self, objs)\u001b[0m\n\u001b[0;32m    484\u001b[0m     \u001b[38;5;28;01mif\u001b[39;00m \u001b[38;5;129;01mnot\u001b[39;00m \u001b[38;5;28misinstance\u001b[39m(obj, (ABCSeries, ABCDataFrame)):\n\u001b[0;32m    485\u001b[0m         msg \u001b[38;5;241m=\u001b[39m (\n\u001b[0;32m    486\u001b[0m             \u001b[38;5;124mf\u001b[39m\u001b[38;5;124m\"\u001b[39m\u001b[38;5;124mcannot concatenate object of type \u001b[39m\u001b[38;5;124m'\u001b[39m\u001b[38;5;132;01m{\u001b[39;00m\u001b[38;5;28mtype\u001b[39m(obj)\u001b[38;5;132;01m}\u001b[39;00m\u001b[38;5;124m'\u001b[39m\u001b[38;5;124m; \u001b[39m\u001b[38;5;124m\"\u001b[39m\n\u001b[0;32m    487\u001b[0m             \u001b[38;5;124m\"\u001b[39m\u001b[38;5;124monly Series and DataFrame objs are valid\u001b[39m\u001b[38;5;124m\"\u001b[39m\n\u001b[0;32m    488\u001b[0m         )\n\u001b[1;32m--> 489\u001b[0m         \u001b[38;5;28;01mraise\u001b[39;00m \u001b[38;5;167;01mTypeError\u001b[39;00m(msg)\n\u001b[0;32m    491\u001b[0m     ndims\u001b[38;5;241m.\u001b[39madd(obj\u001b[38;5;241m.\u001b[39mndim)\n\u001b[0;32m    492\u001b[0m \u001b[38;5;28;01mreturn\u001b[39;00m ndims\n",
      "\u001b[1;31mTypeError\u001b[0m: cannot concatenate object of type '<class 'numpy.ndarray'>'; only Series and DataFrame objs are valid"
     ]
    }
   ],
   "source": [
    "res = pd.DataFrame()\n",
    "res = pd.concat([lb_statistic, p_value])\n",
    "res"
   ]
  },
  {
   "cell_type": "code",
   "execution_count": 16,
   "metadata": {},
   "outputs": [
    {
     "data": {
      "text/html": [
       "<div>\n",
       "<style scoped>\n",
       "    .dataframe tbody tr th:only-of-type {\n",
       "        vertical-align: middle;\n",
       "    }\n",
       "\n",
       "    .dataframe tbody tr th {\n",
       "        vertical-align: top;\n",
       "    }\n",
       "\n",
       "    .dataframe thead th {\n",
       "        text-align: right;\n",
       "    }\n",
       "</style>\n",
       "<table border=\"1\" class=\"dataframe\">\n",
       "  <thead>\n",
       "    <tr style=\"text-align: right;\">\n",
       "      <th></th>\n",
       "      <th>Open</th>\n",
       "      <th>High</th>\n",
       "      <th>Low</th>\n",
       "      <th>Close</th>\n",
       "      <th>Adj Close</th>\n",
       "      <th>Volume</th>\n",
       "      <th>t-1</th>\n",
       "      <th>t-2</th>\n",
       "    </tr>\n",
       "    <tr>\n",
       "      <th>Date</th>\n",
       "      <th></th>\n",
       "      <th></th>\n",
       "      <th></th>\n",
       "      <th></th>\n",
       "      <th></th>\n",
       "      <th></th>\n",
       "      <th></th>\n",
       "      <th></th>\n",
       "    </tr>\n",
       "  </thead>\n",
       "  <tbody>\n",
       "    <tr>\n",
       "      <th>2023-09-18</th>\n",
       "      <td>443.049988</td>\n",
       "      <td>444.970001</td>\n",
       "      <td>442.559998</td>\n",
       "      <td>443.630005</td>\n",
       "      <td>439.053619</td>\n",
       "      <td>55752200</td>\n",
       "      <td>NaN</td>\n",
       "      <td>NaN</td>\n",
       "    </tr>\n",
       "    <tr>\n",
       "      <th>2023-09-19</th>\n",
       "      <td>442.679993</td>\n",
       "      <td>443.290009</td>\n",
       "      <td>439.940002</td>\n",
       "      <td>442.709991</td>\n",
       "      <td>438.143097</td>\n",
       "      <td>66514600</td>\n",
       "      <td>439.053619</td>\n",
       "      <td>NaN</td>\n",
       "    </tr>\n",
       "    <tr>\n",
       "      <th>2023-09-20</th>\n",
       "      <td>444.010010</td>\n",
       "      <td>444.440002</td>\n",
       "      <td>438.429993</td>\n",
       "      <td>438.640015</td>\n",
       "      <td>434.115112</td>\n",
       "      <td>82562600</td>\n",
       "      <td>438.143097</td>\n",
       "      <td>439.053619</td>\n",
       "    </tr>\n",
       "    <tr>\n",
       "      <th>2023-09-21</th>\n",
       "      <td>435.700012</td>\n",
       "      <td>435.970001</td>\n",
       "      <td>431.230011</td>\n",
       "      <td>431.390015</td>\n",
       "      <td>426.939880</td>\n",
       "      <td>103976100</td>\n",
       "      <td>434.115112</td>\n",
       "      <td>438.143097</td>\n",
       "    </tr>\n",
       "    <tr>\n",
       "      <th>2023-09-22</th>\n",
       "      <td>432.450012</td>\n",
       "      <td>434.100006</td>\n",
       "      <td>429.989990</td>\n",
       "      <td>430.420013</td>\n",
       "      <td>425.979889</td>\n",
       "      <td>100829700</td>\n",
       "      <td>426.939880</td>\n",
       "      <td>434.115112</td>\n",
       "    </tr>\n",
       "  </tbody>\n",
       "</table>\n",
       "</div>"
      ],
      "text/plain": [
       "                  Open        High         Low       Close   Adj Close  \\\n",
       "Date                                                                     \n",
       "2023-09-18  443.049988  444.970001  442.559998  443.630005  439.053619   \n",
       "2023-09-19  442.679993  443.290009  439.940002  442.709991  438.143097   \n",
       "2023-09-20  444.010010  444.440002  438.429993  438.640015  434.115112   \n",
       "2023-09-21  435.700012  435.970001  431.230011  431.390015  426.939880   \n",
       "2023-09-22  432.450012  434.100006  429.989990  430.420013  425.979889   \n",
       "\n",
       "               Volume         t-1         t-2  \n",
       "Date                                           \n",
       "2023-09-18   55752200         NaN         NaN  \n",
       "2023-09-19   66514600  439.053619         NaN  \n",
       "2023-09-20   82562600  438.143097  439.053619  \n",
       "2023-09-21  103976100  434.115112  438.143097  \n",
       "2023-09-22  100829700  426.939880  434.115112  "
      ]
     },
     "execution_count": 16,
     "metadata": {},
     "output_type": "execute_result"
    }
   ],
   "source": [
    "df['t-1'] = df['Adj Close'].shift(1)\n",
    "df['t-2'] = df['Adj Close'].shift(2)\n",
    "df.head()"
   ]
  },
  {
   "cell_type": "code",
   "execution_count": 28,
   "metadata": {},
   "outputs": [
    {
     "data": {
      "text/html": [
       "<div>\n",
       "<style scoped>\n",
       "    .dataframe tbody tr th:only-of-type {\n",
       "        vertical-align: middle;\n",
       "    }\n",
       "\n",
       "    .dataframe tbody tr th {\n",
       "        vertical-align: top;\n",
       "    }\n",
       "\n",
       "    .dataframe thead th {\n",
       "        text-align: right;\n",
       "    }\n",
       "</style>\n",
       "<table border=\"1\" class=\"dataframe\">\n",
       "  <thead>\n",
       "    <tr style=\"text-align: right;\">\n",
       "      <th></th>\n",
       "      <th>Open</th>\n",
       "      <th>High</th>\n",
       "      <th>Low</th>\n",
       "      <th>Close</th>\n",
       "      <th>Adj Close</th>\n",
       "      <th>Volume</th>\n",
       "      <th>avgClose5</th>\n",
       "    </tr>\n",
       "    <tr>\n",
       "      <th>Date</th>\n",
       "      <th></th>\n",
       "      <th></th>\n",
       "      <th></th>\n",
       "      <th></th>\n",
       "      <th></th>\n",
       "      <th></th>\n",
       "      <th></th>\n",
       "    </tr>\n",
       "  </thead>\n",
       "  <tbody>\n",
       "    <tr>\n",
       "      <th>2023-09-18</th>\n",
       "      <td>443.049988</td>\n",
       "      <td>444.970001</td>\n",
       "      <td>442.559998</td>\n",
       "      <td>443.630005</td>\n",
       "      <td>439.053619</td>\n",
       "      <td>55752200</td>\n",
       "      <td>NaN</td>\n",
       "    </tr>\n",
       "    <tr>\n",
       "      <th>2023-09-19</th>\n",
       "      <td>442.679993</td>\n",
       "      <td>443.290009</td>\n",
       "      <td>439.940002</td>\n",
       "      <td>442.709991</td>\n",
       "      <td>438.143097</td>\n",
       "      <td>66514600</td>\n",
       "      <td>NaN</td>\n",
       "    </tr>\n",
       "    <tr>\n",
       "      <th>2023-09-20</th>\n",
       "      <td>444.010010</td>\n",
       "      <td>444.440002</td>\n",
       "      <td>438.429993</td>\n",
       "      <td>438.640015</td>\n",
       "      <td>434.115112</td>\n",
       "      <td>82562600</td>\n",
       "      <td>NaN</td>\n",
       "    </tr>\n",
       "    <tr>\n",
       "      <th>2023-09-21</th>\n",
       "      <td>435.700012</td>\n",
       "      <td>435.970001</td>\n",
       "      <td>431.230011</td>\n",
       "      <td>431.390015</td>\n",
       "      <td>426.939880</td>\n",
       "      <td>103976100</td>\n",
       "      <td>NaN</td>\n",
       "    </tr>\n",
       "    <tr>\n",
       "      <th>2023-09-22</th>\n",
       "      <td>432.450012</td>\n",
       "      <td>434.100006</td>\n",
       "      <td>429.989990</td>\n",
       "      <td>430.420013</td>\n",
       "      <td>425.979889</td>\n",
       "      <td>100829700</td>\n",
       "      <td>437.358008</td>\n",
       "    </tr>\n",
       "    <tr>\n",
       "      <th>2023-09-25</th>\n",
       "      <td>429.170013</td>\n",
       "      <td>432.269989</td>\n",
       "      <td>428.720001</td>\n",
       "      <td>432.230011</td>\n",
       "      <td>427.771210</td>\n",
       "      <td>70874500</td>\n",
       "      <td>435.078009</td>\n",
       "    </tr>\n",
       "    <tr>\n",
       "      <th>2023-09-26</th>\n",
       "      <td>429.089996</td>\n",
       "      <td>429.820007</td>\n",
       "      <td>425.019989</td>\n",
       "      <td>425.880005</td>\n",
       "      <td>421.486694</td>\n",
       "      <td>96168400</td>\n",
       "      <td>431.712012</td>\n",
       "    </tr>\n",
       "    <tr>\n",
       "      <th>2023-09-27</th>\n",
       "      <td>427.089996</td>\n",
       "      <td>427.670013</td>\n",
       "      <td>422.290009</td>\n",
       "      <td>426.049988</td>\n",
       "      <td>421.654968</td>\n",
       "      <td>104705800</td>\n",
       "      <td>429.194006</td>\n",
       "    </tr>\n",
       "    <tr>\n",
       "      <th>2023-09-28</th>\n",
       "      <td>425.480011</td>\n",
       "      <td>430.250000</td>\n",
       "      <td>424.869995</td>\n",
       "      <td>428.519989</td>\n",
       "      <td>424.099487</td>\n",
       "      <td>92258300</td>\n",
       "      <td>428.620001</td>\n",
       "    </tr>\n",
       "    <tr>\n",
       "      <th>2023-09-29</th>\n",
       "      <td>431.670013</td>\n",
       "      <td>431.850006</td>\n",
       "      <td>425.910004</td>\n",
       "      <td>427.480011</td>\n",
       "      <td>423.070251</td>\n",
       "      <td>115078500</td>\n",
       "      <td>428.032001</td>\n",
       "    </tr>\n",
       "  </tbody>\n",
       "</table>\n",
       "</div>"
      ],
      "text/plain": [
       "                  Open        High         Low       Close   Adj Close  \\\n",
       "Date                                                                     \n",
       "2023-09-18  443.049988  444.970001  442.559998  443.630005  439.053619   \n",
       "2023-09-19  442.679993  443.290009  439.940002  442.709991  438.143097   \n",
       "2023-09-20  444.010010  444.440002  438.429993  438.640015  434.115112   \n",
       "2023-09-21  435.700012  435.970001  431.230011  431.390015  426.939880   \n",
       "2023-09-22  432.450012  434.100006  429.989990  430.420013  425.979889   \n",
       "2023-09-25  429.170013  432.269989  428.720001  432.230011  427.771210   \n",
       "2023-09-26  429.089996  429.820007  425.019989  425.880005  421.486694   \n",
       "2023-09-27  427.089996  427.670013  422.290009  426.049988  421.654968   \n",
       "2023-09-28  425.480011  430.250000  424.869995  428.519989  424.099487   \n",
       "2023-09-29  431.670013  431.850006  425.910004  427.480011  423.070251   \n",
       "\n",
       "               Volume   avgClose5  \n",
       "Date                               \n",
       "2023-09-18   55752200         NaN  \n",
       "2023-09-19   66514600         NaN  \n",
       "2023-09-20   82562600         NaN  \n",
       "2023-09-21  103976100         NaN  \n",
       "2023-09-22  100829700  437.358008  \n",
       "2023-09-25   70874500  435.078009  \n",
       "2023-09-26   96168400  431.712012  \n",
       "2023-09-27  104705800  429.194006  \n",
       "2023-09-28   92258300  428.620001  \n",
       "2023-09-29  115078500  428.032001  "
      ]
     },
     "execution_count": 28,
     "metadata": {},
     "output_type": "execute_result"
    }
   ],
   "source": [
    "df['avgClose5'] = df.Close.rolling(5).mean()\n",
    "df.head(10)"
   ]
  },
  {
   "cell_type": "code",
   "execution_count": 31,
   "metadata": {},
   "outputs": [
    {
     "data": {
      "text/plain": [
       "Date\n",
       "2023-09-18           NaN\n",
       "2023-09-19           NaN\n",
       "2023-09-20           NaN\n",
       "2023-09-21           NaN\n",
       "2023-09-22    443.630005\n",
       "                 ...    \n",
       "2024-09-10    564.859985\n",
       "2024-09-11    564.859985\n",
       "2024-09-12    564.859985\n",
       "2024-09-13    564.859985\n",
       "2024-09-16    564.859985\n",
       "Name: Close, Length: 251, dtype: float64"
      ]
     },
     "execution_count": 31,
     "metadata": {},
     "output_type": "execute_result"
    }
   ],
   "source": [
    "expandedClose = df.Close.expanding(5)\n",
    "expandedClose.max()"
   ]
  },
  {
   "cell_type": "code",
   "execution_count": 21,
   "metadata": {},
   "outputs": [
    {
     "data": {
      "text/html": [
       "<div>\n",
       "<style scoped>\n",
       "    .dataframe tbody tr th:only-of-type {\n",
       "        vertical-align: middle;\n",
       "    }\n",
       "\n",
       "    .dataframe tbody tr th {\n",
       "        vertical-align: top;\n",
       "    }\n",
       "\n",
       "    .dataframe thead th {\n",
       "        text-align: right;\n",
       "    }\n",
       "</style>\n",
       "<table border=\"1\" class=\"dataframe\">\n",
       "  <thead>\n",
       "    <tr style=\"text-align: right;\">\n",
       "      <th></th>\n",
       "      <th>Open</th>\n",
       "      <th>High</th>\n",
       "      <th>Low</th>\n",
       "      <th>Close</th>\n",
       "      <th>Adj Close</th>\n",
       "      <th>Volume</th>\n",
       "      <th>t-1</th>\n",
       "      <th>t-2</th>\n",
       "    </tr>\n",
       "    <tr>\n",
       "      <th>Date</th>\n",
       "      <th></th>\n",
       "      <th></th>\n",
       "      <th></th>\n",
       "      <th></th>\n",
       "      <th></th>\n",
       "      <th></th>\n",
       "      <th></th>\n",
       "      <th></th>\n",
       "    </tr>\n",
       "  </thead>\n",
       "  <tbody>\n",
       "    <tr>\n",
       "      <th>2023-09-18</th>\n",
       "      <td>NaN</td>\n",
       "      <td>NaN</td>\n",
       "      <td>NaN</td>\n",
       "      <td>NaN</td>\n",
       "      <td>NaN</td>\n",
       "      <td>NaN</td>\n",
       "      <td>NaN</td>\n",
       "      <td>NaN</td>\n",
       "    </tr>\n",
       "    <tr>\n",
       "      <th>2023-09-19</th>\n",
       "      <td>NaN</td>\n",
       "      <td>NaN</td>\n",
       "      <td>NaN</td>\n",
       "      <td>NaN</td>\n",
       "      <td>NaN</td>\n",
       "      <td>NaN</td>\n",
       "      <td>NaN</td>\n",
       "      <td>NaN</td>\n",
       "    </tr>\n",
       "    <tr>\n",
       "      <th>2023-09-20</th>\n",
       "      <td>443.049988</td>\n",
       "      <td>444.970001</td>\n",
       "      <td>442.559998</td>\n",
       "      <td>443.630005</td>\n",
       "      <td>439.053619</td>\n",
       "      <td>55752200.0</td>\n",
       "      <td>NaN</td>\n",
       "      <td>NaN</td>\n",
       "    </tr>\n",
       "    <tr>\n",
       "      <th>2023-09-21</th>\n",
       "      <td>442.679993</td>\n",
       "      <td>443.290009</td>\n",
       "      <td>439.940002</td>\n",
       "      <td>442.709991</td>\n",
       "      <td>438.143097</td>\n",
       "      <td>66514600.0</td>\n",
       "      <td>439.053619</td>\n",
       "      <td>NaN</td>\n",
       "    </tr>\n",
       "    <tr>\n",
       "      <th>2023-09-22</th>\n",
       "      <td>444.010010</td>\n",
       "      <td>444.440002</td>\n",
       "      <td>438.429993</td>\n",
       "      <td>438.640015</td>\n",
       "      <td>434.115112</td>\n",
       "      <td>82562600.0</td>\n",
       "      <td>438.143097</td>\n",
       "      <td>439.053619</td>\n",
       "    </tr>\n",
       "  </tbody>\n",
       "</table>\n",
       "</div>"
      ],
      "text/plain": [
       "                  Open        High         Low       Close   Adj Close  \\\n",
       "Date                                                                     \n",
       "2023-09-18         NaN         NaN         NaN         NaN         NaN   \n",
       "2023-09-19         NaN         NaN         NaN         NaN         NaN   \n",
       "2023-09-20  443.049988  444.970001  442.559998  443.630005  439.053619   \n",
       "2023-09-21  442.679993  443.290009  439.940002  442.709991  438.143097   \n",
       "2023-09-22  444.010010  444.440002  438.429993  438.640015  434.115112   \n",
       "\n",
       "                Volume         t-1         t-2  \n",
       "Date                                            \n",
       "2023-09-18         NaN         NaN         NaN  \n",
       "2023-09-19         NaN         NaN         NaN  \n",
       "2023-09-20  55752200.0         NaN         NaN  \n",
       "2023-09-21  66514600.0  439.053619         NaN  \n",
       "2023-09-22  82562600.0  438.143097  439.053619  "
      ]
     },
     "execution_count": 21,
     "metadata": {},
     "output_type": "execute_result"
    }
   ],
   "source": [
    "shiftTest = df.shift(2)\n",
    "shiftTest.head()"
   ]
  },
  {
   "cell_type": "code",
   "execution_count": 37,
   "metadata": {},
   "outputs": [
    {
     "data": {
      "text/plain": [
       "Expanding [min_periods=1,axis=0,method=single]"
      ]
     },
     "execution_count": 37,
     "metadata": {},
     "output_type": "execute_result"
    }
   ],
   "source": [
    "rollTest = df.expanding()\n",
    "rollTest"
   ]
  },
  {
   "cell_type": "code",
   "execution_count": 42,
   "metadata": {},
   "outputs": [
    {
     "data": {
      "text/html": [
       "<div>\n",
       "<style scoped>\n",
       "    .dataframe tbody tr th:only-of-type {\n",
       "        vertical-align: middle;\n",
       "    }\n",
       "\n",
       "    .dataframe tbody tr th {\n",
       "        vertical-align: top;\n",
       "    }\n",
       "\n",
       "    .dataframe thead th {\n",
       "        text-align: right;\n",
       "    }\n",
       "</style>\n",
       "<table border=\"1\" class=\"dataframe\">\n",
       "  <thead>\n",
       "    <tr style=\"text-align: right;\">\n",
       "      <th></th>\n",
       "      <th>Open</th>\n",
       "      <th>High</th>\n",
       "      <th>Low</th>\n",
       "      <th>Close</th>\n",
       "      <th>Adj Close</th>\n",
       "      <th>Volume</th>\n",
       "    </tr>\n",
       "    <tr>\n",
       "      <th>Date</th>\n",
       "      <th></th>\n",
       "      <th></th>\n",
       "      <th></th>\n",
       "      <th></th>\n",
       "      <th></th>\n",
       "      <th></th>\n",
       "    </tr>\n",
       "  </thead>\n",
       "  <tbody>\n",
       "    <tr>\n",
       "      <th>2023-09-18</th>\n",
       "      <td>443.049988</td>\n",
       "      <td>444.970001</td>\n",
       "      <td>442.559998</td>\n",
       "      <td>443.630005</td>\n",
       "      <td>439.053619</td>\n",
       "      <td>55752200</td>\n",
       "    </tr>\n",
       "    <tr>\n",
       "      <th>2023-09-19</th>\n",
       "      <td>442.679993</td>\n",
       "      <td>443.290009</td>\n",
       "      <td>439.940002</td>\n",
       "      <td>442.709991</td>\n",
       "      <td>438.143097</td>\n",
       "      <td>66514600</td>\n",
       "    </tr>\n",
       "    <tr>\n",
       "      <th>2023-09-20</th>\n",
       "      <td>444.010010</td>\n",
       "      <td>444.440002</td>\n",
       "      <td>438.429993</td>\n",
       "      <td>438.640015</td>\n",
       "      <td>434.115112</td>\n",
       "      <td>82562600</td>\n",
       "    </tr>\n",
       "    <tr>\n",
       "      <th>2023-09-21</th>\n",
       "      <td>435.700012</td>\n",
       "      <td>435.970001</td>\n",
       "      <td>431.230011</td>\n",
       "      <td>431.390015</td>\n",
       "      <td>426.939880</td>\n",
       "      <td>103976100</td>\n",
       "    </tr>\n",
       "    <tr>\n",
       "      <th>2023-09-22</th>\n",
       "      <td>432.450012</td>\n",
       "      <td>434.100006</td>\n",
       "      <td>429.989990</td>\n",
       "      <td>430.420013</td>\n",
       "      <td>425.979889</td>\n",
       "      <td>100829700</td>\n",
       "    </tr>\n",
       "  </tbody>\n",
       "</table>\n",
       "</div>"
      ],
      "text/plain": [
       "                  Open        High         Low       Close   Adj Close  \\\n",
       "Date                                                                     \n",
       "2023-09-18  443.049988  444.970001  442.559998  443.630005  439.053619   \n",
       "2023-09-19  442.679993  443.290009  439.940002  442.709991  438.143097   \n",
       "2023-09-20  444.010010  444.440002  438.429993  438.640015  434.115112   \n",
       "2023-09-21  435.700012  435.970001  431.230011  431.390015  426.939880   \n",
       "2023-09-22  432.450012  434.100006  429.989990  430.420013  425.979889   \n",
       "\n",
       "               Volume  \n",
       "Date                   \n",
       "2023-09-18   55752200  \n",
       "2023-09-19   66514600  \n",
       "2023-09-20   82562600  \n",
       "2023-09-21  103976100  \n",
       "2023-09-22  100829700  "
      ]
     },
     "execution_count": 42,
     "metadata": {},
     "output_type": "execute_result"
    }
   ],
   "source": [
    "df.head()"
   ]
  },
  {
   "cell_type": "code",
   "execution_count": 41,
   "metadata": {},
   "outputs": [
    {
     "data": {
      "text/html": [
       "<div>\n",
       "<style scoped>\n",
       "    .dataframe tbody tr th:only-of-type {\n",
       "        vertical-align: middle;\n",
       "    }\n",
       "\n",
       "    .dataframe tbody tr th {\n",
       "        vertical-align: top;\n",
       "    }\n",
       "\n",
       "    .dataframe thead th {\n",
       "        text-align: right;\n",
       "    }\n",
       "</style>\n",
       "<table border=\"1\" class=\"dataframe\">\n",
       "  <thead>\n",
       "    <tr style=\"text-align: right;\">\n",
       "      <th></th>\n",
       "      <th>Open</th>\n",
       "      <th>High</th>\n",
       "      <th>Low</th>\n",
       "      <th>Close</th>\n",
       "      <th>Adj Close</th>\n",
       "      <th>Volume</th>\n",
       "    </tr>\n",
       "    <tr>\n",
       "      <th>Date</th>\n",
       "      <th></th>\n",
       "      <th></th>\n",
       "      <th></th>\n",
       "      <th></th>\n",
       "      <th></th>\n",
       "      <th></th>\n",
       "    </tr>\n",
       "  </thead>\n",
       "  <tbody>\n",
       "    <tr>\n",
       "      <th>2023-09-18</th>\n",
       "      <td>NaN</td>\n",
       "      <td>NaN</td>\n",
       "      <td>NaN</td>\n",
       "      <td>NaN</td>\n",
       "      <td>NaN</td>\n",
       "      <td>NaN</td>\n",
       "    </tr>\n",
       "    <tr>\n",
       "      <th>2023-09-19</th>\n",
       "      <td>NaN</td>\n",
       "      <td>NaN</td>\n",
       "      <td>NaN</td>\n",
       "      <td>NaN</td>\n",
       "      <td>NaN</td>\n",
       "      <td>NaN</td>\n",
       "    </tr>\n",
       "    <tr>\n",
       "      <th>2023-09-20</th>\n",
       "      <td>443.246663</td>\n",
       "      <td>444.233337</td>\n",
       "      <td>440.309998</td>\n",
       "      <td>441.660004</td>\n",
       "      <td>437.103943</td>\n",
       "      <td>6.827647e+07</td>\n",
       "    </tr>\n",
       "    <tr>\n",
       "      <th>2023-09-21</th>\n",
       "      <td>440.796672</td>\n",
       "      <td>441.233337</td>\n",
       "      <td>436.533335</td>\n",
       "      <td>437.580007</td>\n",
       "      <td>433.066030</td>\n",
       "      <td>8.435110e+07</td>\n",
       "    </tr>\n",
       "    <tr>\n",
       "      <th>2023-09-22</th>\n",
       "      <td>437.386678</td>\n",
       "      <td>438.170003</td>\n",
       "      <td>433.216665</td>\n",
       "      <td>433.483348</td>\n",
       "      <td>429.011627</td>\n",
       "      <td>9.578947e+07</td>\n",
       "    </tr>\n",
       "    <tr>\n",
       "      <th>...</th>\n",
       "      <td>...</td>\n",
       "      <td>...</td>\n",
       "      <td>...</td>\n",
       "      <td>...</td>\n",
       "      <td>...</td>\n",
       "      <td>...</td>\n",
       "    </tr>\n",
       "    <tr>\n",
       "      <th>2024-09-10</th>\n",
       "      <td>547.650004</td>\n",
       "      <td>549.486674</td>\n",
       "      <td>541.833333</td>\n",
       "      <td>545.186646</td>\n",
       "      <td>545.186646</td>\n",
       "      <td>4.844473e+07</td>\n",
       "    </tr>\n",
       "    <tr>\n",
       "      <th>2024-09-11</th>\n",
       "      <td>547.236674</td>\n",
       "      <td>550.740011</td>\n",
       "      <td>542.006673</td>\n",
       "      <td>549.873311</td>\n",
       "      <td>549.873311</td>\n",
       "      <td>5.069633e+07</td>\n",
       "    </tr>\n",
       "    <tr>\n",
       "      <th>2024-09-12</th>\n",
       "      <td>550.690002</td>\n",
       "      <td>554.636678</td>\n",
       "      <td>545.360006</td>\n",
       "      <td>554.099996</td>\n",
       "      <td>554.099996</td>\n",
       "      <td>5.451197e+07</td>\n",
       "    </tr>\n",
       "    <tr>\n",
       "      <th>2024-09-13</th>\n",
       "      <td>554.473348</td>\n",
       "      <td>559.263346</td>\n",
       "      <td>550.716675</td>\n",
       "      <td>558.506673</td>\n",
       "      <td>558.506673</td>\n",
       "      <td>5.548393e+07</td>\n",
       "    </tr>\n",
       "    <tr>\n",
       "      <th>2024-09-16</th>\n",
       "      <td>558.820007</td>\n",
       "      <td>561.846680</td>\n",
       "      <td>557.363342</td>\n",
       "      <td>561.313354</td>\n",
       "      <td>561.313354</td>\n",
       "      <td>4.260097e+07</td>\n",
       "    </tr>\n",
       "  </tbody>\n",
       "</table>\n",
       "<p>251 rows × 6 columns</p>\n",
       "</div>"
      ],
      "text/plain": [
       "                  Open        High         Low       Close   Adj Close  \\\n",
       "Date                                                                     \n",
       "2023-09-18         NaN         NaN         NaN         NaN         NaN   \n",
       "2023-09-19         NaN         NaN         NaN         NaN         NaN   \n",
       "2023-09-20  443.246663  444.233337  440.309998  441.660004  437.103943   \n",
       "2023-09-21  440.796672  441.233337  436.533335  437.580007  433.066030   \n",
       "2023-09-22  437.386678  438.170003  433.216665  433.483348  429.011627   \n",
       "...                ...         ...         ...         ...         ...   \n",
       "2024-09-10  547.650004  549.486674  541.833333  545.186646  545.186646   \n",
       "2024-09-11  547.236674  550.740011  542.006673  549.873311  549.873311   \n",
       "2024-09-12  550.690002  554.636678  545.360006  554.099996  554.099996   \n",
       "2024-09-13  554.473348  559.263346  550.716675  558.506673  558.506673   \n",
       "2024-09-16  558.820007  561.846680  557.363342  561.313354  561.313354   \n",
       "\n",
       "                  Volume  \n",
       "Date                      \n",
       "2023-09-18           NaN  \n",
       "2023-09-19           NaN  \n",
       "2023-09-20  6.827647e+07  \n",
       "2023-09-21  8.435110e+07  \n",
       "2023-09-22  9.578947e+07  \n",
       "...                  ...  \n",
       "2024-09-10  4.844473e+07  \n",
       "2024-09-11  5.069633e+07  \n",
       "2024-09-12  5.451197e+07  \n",
       "2024-09-13  5.548393e+07  \n",
       "2024-09-16  4.260097e+07  \n",
       "\n",
       "[251 rows x 6 columns]"
      ]
     },
     "execution_count": 41,
     "metadata": {},
     "output_type": "execute_result"
    }
   ],
   "source": [
    "df.rolling(3).mean()"
   ]
  },
  {
   "cell_type": "code",
   "execution_count": 44,
   "metadata": {},
   "outputs": [
    {
     "data": {
      "text/plain": [
       "213"
      ]
     },
     "execution_count": 44,
     "metadata": {},
     "output_type": "execute_result"
    }
   ],
   "source": [
    "a = [10, 203]\n",
    "\n",
    "b = a = sum(a)\n",
    "\n",
    "b"
   ]
  },
  {
   "cell_type": "code",
   "execution_count": 25,
   "metadata": {},
   "outputs": [
    {
     "data": {
      "text/html": [
       "<div>\n",
       "<style scoped>\n",
       "    .dataframe tbody tr th:only-of-type {\n",
       "        vertical-align: middle;\n",
       "    }\n",
       "\n",
       "    .dataframe tbody tr th {\n",
       "        vertical-align: top;\n",
       "    }\n",
       "\n",
       "    .dataframe thead th {\n",
       "        text-align: right;\n",
       "    }\n",
       "</style>\n",
       "<table border=\"1\" class=\"dataframe\">\n",
       "  <thead>\n",
       "    <tr style=\"text-align: right;\">\n",
       "      <th></th>\n",
       "      <th>Open</th>\n",
       "      <th>High</th>\n",
       "      <th>Low</th>\n",
       "      <th>Close</th>\n",
       "      <th>Adj Close</th>\n",
       "      <th>Volume</th>\n",
       "      <th>t-1</th>\n",
       "      <th>t-2</th>\n",
       "      <th>Open</th>\n",
       "      <th>High</th>\n",
       "      <th>...</th>\n",
       "      <th>t-1</th>\n",
       "      <th>t-2</th>\n",
       "      <th>Open</th>\n",
       "      <th>High</th>\n",
       "      <th>Low</th>\n",
       "      <th>Close</th>\n",
       "      <th>Adj Close</th>\n",
       "      <th>Volume</th>\n",
       "      <th>t-1</th>\n",
       "      <th>t-2</th>\n",
       "    </tr>\n",
       "    <tr>\n",
       "      <th>Date</th>\n",
       "      <th></th>\n",
       "      <th></th>\n",
       "      <th></th>\n",
       "      <th></th>\n",
       "      <th></th>\n",
       "      <th></th>\n",
       "      <th></th>\n",
       "      <th></th>\n",
       "      <th></th>\n",
       "      <th></th>\n",
       "      <th></th>\n",
       "      <th></th>\n",
       "      <th></th>\n",
       "      <th></th>\n",
       "      <th></th>\n",
       "      <th></th>\n",
       "      <th></th>\n",
       "      <th></th>\n",
       "      <th></th>\n",
       "      <th></th>\n",
       "      <th></th>\n",
       "    </tr>\n",
       "  </thead>\n",
       "  <tbody>\n",
       "    <tr>\n",
       "      <th>2023-09-18</th>\n",
       "      <td>NaN</td>\n",
       "      <td>NaN</td>\n",
       "      <td>NaN</td>\n",
       "      <td>NaN</td>\n",
       "      <td>NaN</td>\n",
       "      <td>NaN</td>\n",
       "      <td>NaN</td>\n",
       "      <td>NaN</td>\n",
       "      <td>NaN</td>\n",
       "      <td>NaN</td>\n",
       "      <td>...</td>\n",
       "      <td>NaN</td>\n",
       "      <td>NaN</td>\n",
       "      <td>NaN</td>\n",
       "      <td>NaN</td>\n",
       "      <td>NaN</td>\n",
       "      <td>NaN</td>\n",
       "      <td>NaN</td>\n",
       "      <td>NaN</td>\n",
       "      <td>NaN</td>\n",
       "      <td>NaN</td>\n",
       "    </tr>\n",
       "    <tr>\n",
       "      <th>2023-09-19</th>\n",
       "      <td>NaN</td>\n",
       "      <td>NaN</td>\n",
       "      <td>NaN</td>\n",
       "      <td>NaN</td>\n",
       "      <td>NaN</td>\n",
       "      <td>NaN</td>\n",
       "      <td>NaN</td>\n",
       "      <td>NaN</td>\n",
       "      <td>NaN</td>\n",
       "      <td>NaN</td>\n",
       "      <td>...</td>\n",
       "      <td>NaN</td>\n",
       "      <td>NaN</td>\n",
       "      <td>NaN</td>\n",
       "      <td>NaN</td>\n",
       "      <td>NaN</td>\n",
       "      <td>NaN</td>\n",
       "      <td>NaN</td>\n",
       "      <td>NaN</td>\n",
       "      <td>NaN</td>\n",
       "      <td>NaN</td>\n",
       "    </tr>\n",
       "    <tr>\n",
       "      <th>2023-09-20</th>\n",
       "      <td>NaN</td>\n",
       "      <td>NaN</td>\n",
       "      <td>NaN</td>\n",
       "      <td>NaN</td>\n",
       "      <td>NaN</td>\n",
       "      <td>NaN</td>\n",
       "      <td>NaN</td>\n",
       "      <td>NaN</td>\n",
       "      <td>NaN</td>\n",
       "      <td>NaN</td>\n",
       "      <td>...</td>\n",
       "      <td>NaN</td>\n",
       "      <td>NaN</td>\n",
       "      <td>443.049988</td>\n",
       "      <td>444.970001</td>\n",
       "      <td>442.559998</td>\n",
       "      <td>443.630005</td>\n",
       "      <td>439.053619</td>\n",
       "      <td>55752200.0</td>\n",
       "      <td>NaN</td>\n",
       "      <td>NaN</td>\n",
       "    </tr>\n",
       "    <tr>\n",
       "      <th>2023-09-21</th>\n",
       "      <td>442.679993</td>\n",
       "      <td>443.290009</td>\n",
       "      <td>439.940002</td>\n",
       "      <td>442.709991</td>\n",
       "      <td>438.143097</td>\n",
       "      <td>55752200.0</td>\n",
       "      <td>NaN</td>\n",
       "      <td>NaN</td>\n",
       "      <td>443.049988</td>\n",
       "      <td>444.970001</td>\n",
       "      <td>...</td>\n",
       "      <td>NaN</td>\n",
       "      <td>NaN</td>\n",
       "      <td>442.679993</td>\n",
       "      <td>443.290009</td>\n",
       "      <td>439.940002</td>\n",
       "      <td>442.709991</td>\n",
       "      <td>438.143097</td>\n",
       "      <td>66514600.0</td>\n",
       "      <td>439.053619</td>\n",
       "      <td>NaN</td>\n",
       "    </tr>\n",
       "    <tr>\n",
       "      <th>2023-09-22</th>\n",
       "      <td>442.679993</td>\n",
       "      <td>443.290009</td>\n",
       "      <td>438.429993</td>\n",
       "      <td>438.640015</td>\n",
       "      <td>434.115112</td>\n",
       "      <td>66514600.0</td>\n",
       "      <td>438.143097</td>\n",
       "      <td>NaN</td>\n",
       "      <td>444.010010</td>\n",
       "      <td>444.440002</td>\n",
       "      <td>...</td>\n",
       "      <td>438.598358</td>\n",
       "      <td>NaN</td>\n",
       "      <td>444.010010</td>\n",
       "      <td>444.440002</td>\n",
       "      <td>438.429993</td>\n",
       "      <td>438.640015</td>\n",
       "      <td>434.115112</td>\n",
       "      <td>82562600.0</td>\n",
       "      <td>438.143097</td>\n",
       "      <td>439.053619</td>\n",
       "    </tr>\n",
       "  </tbody>\n",
       "</table>\n",
       "<p>5 rows × 32 columns</p>\n",
       "</div>"
      ],
      "text/plain": [
       "                  Open        High         Low       Close   Adj Close  \\\n",
       "Date                                                                     \n",
       "2023-09-18         NaN         NaN         NaN         NaN         NaN   \n",
       "2023-09-19         NaN         NaN         NaN         NaN         NaN   \n",
       "2023-09-20         NaN         NaN         NaN         NaN         NaN   \n",
       "2023-09-21  442.679993  443.290009  439.940002  442.709991  438.143097   \n",
       "2023-09-22  442.679993  443.290009  438.429993  438.640015  434.115112   \n",
       "\n",
       "                Volume         t-1  t-2        Open        High  ...  \\\n",
       "Date                                                             ...   \n",
       "2023-09-18         NaN         NaN  NaN         NaN         NaN  ...   \n",
       "2023-09-19         NaN         NaN  NaN         NaN         NaN  ...   \n",
       "2023-09-20         NaN         NaN  NaN         NaN         NaN  ...   \n",
       "2023-09-21  55752200.0         NaN  NaN  443.049988  444.970001  ...   \n",
       "2023-09-22  66514600.0  438.143097  NaN  444.010010  444.440002  ...   \n",
       "\n",
       "                   t-1  t-2        Open        High         Low       Close  \\\n",
       "Date                                                                          \n",
       "2023-09-18         NaN  NaN         NaN         NaN         NaN         NaN   \n",
       "2023-09-19         NaN  NaN         NaN         NaN         NaN         NaN   \n",
       "2023-09-20         NaN  NaN  443.049988  444.970001  442.559998  443.630005   \n",
       "2023-09-21         NaN  NaN  442.679993  443.290009  439.940002  442.709991   \n",
       "2023-09-22  438.598358  NaN  444.010010  444.440002  438.429993  438.640015   \n",
       "\n",
       "             Adj Close      Volume         t-1         t-2  \n",
       "Date                                                        \n",
       "2023-09-18         NaN         NaN         NaN         NaN  \n",
       "2023-09-19         NaN         NaN         NaN         NaN  \n",
       "2023-09-20  439.053619  55752200.0         NaN         NaN  \n",
       "2023-09-21  438.143097  66514600.0  439.053619         NaN  \n",
       "2023-09-22  434.115112  82562600.0  438.143097  439.053619  \n",
       "\n",
       "[5 rows x 32 columns]"
      ]
     },
     "execution_count": 25,
     "metadata": {},
     "output_type": "execute_result"
    }
   ],
   "source": [
    "newDF = pd.concat([rollTest.min(), rollTest.max(), rollTest.mean(), shiftTest], axis=1)\n",
    "newDF.head()"
   ]
  },
  {
   "cell_type": "code",
   "execution_count": null,
   "metadata": {},
   "outputs": [],
   "source": []
  }
 ],
 "metadata": {
  "kernelspec": {
   "display_name": ".venv",
   "language": "python",
   "name": "python3"
  },
  "language_info": {
   "codemirror_mode": {
    "name": "ipython",
    "version": 3
   },
   "file_extension": ".py",
   "mimetype": "text/x-python",
   "name": "python",
   "nbconvert_exporter": "python",
   "pygments_lexer": "ipython3",
   "version": "3.12.5"
  }
 },
 "nbformat": 4,
 "nbformat_minor": 2
}

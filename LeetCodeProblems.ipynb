{
 "cells": [
  {
   "cell_type": "markdown",
   "metadata": {},
   "source": [
    "## Difficulty Easy"
   ]
  },
  {
   "cell_type": "markdown",
   "metadata": {},
   "source": [
    "### 1. Two Sum\n",
    "<sub>[_Google Interview Question_]</sub>"
   ]
  },
  {
   "cell_type": "markdown",
   "metadata": {},
   "source": [
    "Given an array of integers ```nums``` and an integer ```target```, return *indices of the two numbers such that they add up to* ```target```.\n",
    "\n",
    "You may assume that each input would have __exactly one solution__, and you may not use the _same_ element twice.\n",
    "\n",
    "You can return the answer in any order."
   ]
  },
  {
   "cell_type": "code",
   "execution_count": 64,
   "metadata": {},
   "outputs": [],
   "source": [
    "# Works but runtime is quite bad - 3694ms \n",
    "class Solution_1a:\n",
    "    def twoSum(self, nums:list[int], target:int) -> list[int]:\n",
    "        for firstInd, thing in enumerate(nums):\n",
    "            for secondInd, otherThing in enumerate(nums):\n",
    "                if firstInd != secondInd:\n",
    "                    if thing + otherThing == target:\n",
    "                        return [firstInd, secondInd]"
   ]
  },
  {
   "cell_type": "code",
   "execution_count": 66,
   "metadata": {},
   "outputs": [],
   "source": [
    "# By using Hash Table and not brute forcing it, we reduce the runtime down to 53ms\n",
    "class Solution_1b:\n",
    "    def twoSum(self, nums:list[int], target:int) -> list[int]:\n",
    "        dict = {}\n",
    "\n",
    "        for ind, thing in enumerate(nums):\n",
    "            if target - thing in dict:\n",
    "                return [ind, dict[target - thing]]\n",
    "            dict[thing] = ind"
   ]
  },
  {
   "cell_type": "markdown",
   "metadata": {},
   "source": [
    "### 2678. Number of Senior Citizens"
   ]
  },
  {
   "cell_type": "markdown",
   "metadata": {},
   "source": [
    "You are given a __0-indexed__ array of strings ```details```. Each element of details provides information about a given passenger compressed into a string of length ```15```. The system is such that:\n",
    "\n",
    "- The first ten characters consist of the phone number of passengers.\n",
    "- The next character denotes the gender of the person.\n",
    "- The following two characters are used to indicate the age of the person.\n",
    "- The last two characters determine the seat allotted to that person.\n",
    "\n",
    "Return *the number of passengers who are __strictly more than 60 years old.__*"
   ]
  },
  {
   "cell_type": "code",
   "execution_count": 1,
   "metadata": {},
   "outputs": [],
   "source": [
    "class Solution_2678:\n",
    "    def getSeniors(self, details: list[str]) -> int:\n",
    "        seniors = 0\n",
    "\n",
    "        for detail in details:\n",
    "            _, _, age, _ = self.getDeets(detail)\n",
    "            if age > 60: seniors += 1\n",
    "\n",
    "        return seniors\n",
    "    \n",
    "    def getDeets(self, passenger:str):\n",
    "        phoneNum = passenger[0:10]\n",
    "        gender = passenger[10]\n",
    "        age = passenger[11:13]\n",
    "        seatAlloted = passenger[len(passenger)-2:]\n",
    "\n",
    "        return phoneNum, gender, int(age), seatAlloted"
   ]
  },
  {
   "cell_type": "code",
   "execution_count": 2,
   "metadata": {},
   "outputs": [
    {
     "data": {
      "text/plain": [
       "2"
      ]
     },
     "execution_count": 2,
     "metadata": {},
     "output_type": "execute_result"
    }
   ],
   "source": [
    "mySolution2678 = Solution_2678()\n",
    "mySolution2678.getSeniors([\"7868190130M7522\",\"5303914400F9211\",\"9273338290F4010\"])"
   ]
  },
  {
   "cell_type": "markdown",
   "metadata": {},
   "source": [
    "### 2053. Kth Distinct String in an Array"
   ]
  },
  {
   "cell_type": "markdown",
   "metadata": {},
   "source": [
    "A **distinct string** is a string that is present only once in an array.\n",
    "\n",
    "Given an array of strings ```arr```, and an integer ```k```, return the k<sup>th</sup> distinct string present in ```arr```. If there are fewer than ```k``` distinct strings, return an **empty string ```\"\"```**.\n",
    "\n",
    "Note that the strings are considered in the **order in which they appear** in the array."
   ]
  },
  {
   "cell_type": "code",
   "execution_count": 27,
   "metadata": {},
   "outputs": [],
   "source": [
    "class Solution_2053:\n",
    "    def kthDistinct(self, arr: list[str]=[], k: int=0, uniqueCount: int=0) -> str:\n",
    "        if not arr: return ''\n",
    "\n",
    "        myList = arr\n",
    "        currentElem = myList.pop(0)\n",
    "        if currentElem in myList: \n",
    "            myList = [item for item in myList if item != currentElem]   \n",
    "        else:\n",
    "            uniqueCount += 1\n",
    "            if uniqueCount == k: return currentElem\n",
    "        \n",
    "        return self.kthDistinct(arr=myList, k=k, uniqueCount=uniqueCount) "
   ]
  },
  {
   "cell_type": "code",
   "execution_count": null,
   "metadata": {},
   "outputs": [],
   "source": []
  },
  {
   "cell_type": "markdown",
   "metadata": {},
   "source": [
    "## Difficulty Medium"
   ]
  },
  {
   "cell_type": "markdown",
   "metadata": {},
   "source": [
    "### 3. Longest Substring Without Repeating Characters"
   ]
  },
  {
   "cell_type": "markdown",
   "metadata": {},
   "source": [
    "Given a string ```s```, find the length of the __longest substring__ without repeating characters."
   ]
  },
  {
   "cell_type": "code",
   "execution_count": 58,
   "metadata": {},
   "outputs": [],
   "source": [
    "class Solution_3:\n",
    "    def lengthOfLongestSubstring(self, s: str, charDict:list=[], highest:int = 0) -> int:\n",
    "        if not s: return highest  \n",
    "        poppedChar = s[0]\n",
    "        s = s[1:]\n",
    "\n",
    "        if poppedChar not in charDict:\n",
    "            charDict.append(poppedChar)\n",
    "        else:\n",
    "            charDict = []\n",
    "        highest = len(charDict) if len(charDict) > highest else highest\n",
    "        return self.lengthOfLongestSubstring(s=s, charDict=charDict, highest=highest)"
   ]
  },
  {
   "cell_type": "markdown",
   "metadata": {},
   "source": [
    "### 8. String to Integer (atoi)"
   ]
  },
  {
   "cell_type": "markdown",
   "metadata": {},
   "source": [
    "Implement the _```myAtoi(string s)```_ function, which converts a string to a 32-bit signed integer.\n",
    "\n",
    "The algorithm for _```myAtoi(string s)```_ is as follows:\n",
    "\n",
    "1. __Whitespace__: Ignore any leading whitespace (\" \").\n",
    "2. __Signedness__: Determine the sign by checking if the next character is '-' or '+', assuming positivity is neither present.\n",
    "3. __Conversion__: Read the integer by skipping leading zeros until a non-digit character is encountered or the end of the string is reached. If no digits were read, then the result is 0.\n",
    "4. __Rounding__: If the integer is out of the 32-bit signed integer range _[-2<sup>31</sup>, 2<sup>31</sup> - 1]_, then round the integer to remain in the range. Specifically, integers less than _-2<sup>31</sup>_ should be rounded to _-2<sup>31</sup>_, and integers greater than _2<sup>31</sup> - 1_ should be rounded to _2<sup>31</sup> - 1_."
   ]
  },
  {
   "cell_type": "code",
   "execution_count": 85,
   "metadata": {},
   "outputs": [],
   "source": [
    "class Solution_Atoi:\n",
    "    MIN_RANGE = -2**31\n",
    "    MAX_RANGE = 2**31 - 1\n",
    "\n",
    "    def myAtoi(self, s:str) -> int:\n",
    "        cleanedS = self.removeUntilChar(s)\n",
    "        sign, myInput = self.checkSign(cleanedS)\n",
    "        convNum = self.getNumber(myInput, sign)\n",
    "        return self.roundInput(convNum)\n",
    "    \n",
    "    def removeUntilChar(self, input):\n",
    "        if len(input) == 0 or input is None: return ''\n",
    "        if input[0] == ' ' or input[0] == '_': return self.removeUntilChar(input[1:])\n",
    "        return input\n",
    "    \n",
    "    def checkSign(self, input):\n",
    "        if len(input) == 0 or input is None: return '+', '0'\n",
    "        if input[0] == '+': return '+', input[1:]\n",
    "        if input[0] == '-': return '-', input[1:]\n",
    "        try:\n",
    "            int(input[0])\n",
    "        except:\n",
    "            # Was not a number or sign, return 0\n",
    "            return '+', '0'\n",
    "        else:\n",
    "            # Successfully converted, return sign and the input (assumed that input had no sign and is positive)\n",
    "            return '+', input\n",
    "        \n",
    "    def getNumber(self, input, sign, compiledString=''):\n",
    "        try:\n",
    "            int(input[0])\n",
    "        except:\n",
    "            if compiledString == '': return 0\n",
    "            return int(sign + compiledString)\n",
    "        else:\n",
    "            return self.getNumber(input[1:], sign=sign, compiledString=compiledString + input[0])\n",
    "    \n",
    "    def roundInput(self, input):\n",
    "        if input > MAX_RANGE: return MAX_RANGE\n",
    "        if input < MIN_RANGE: return MIN_RANGE\n",
    "        return input"
   ]
  },
  {
   "cell_type": "markdown",
   "metadata": {},
   "source": [
    "### 388. Longest Absolute File Path [INCOMPLETE]\n",
    "\n",
    "_Google Question_"
   ]
  },
  {
   "cell_type": "markdown",
   "metadata": {},
   "source": [
    "Suppose we have a file system that stores both files and directories. An example of one system is represented in the following figure:\n",
    "\n",
    "<blockquote>\n",
    "    dir <br>\n",
    "    &rarr; subdir1 <br>\n",
    "    &rarr; &rarr; file1.ext <br>\n",
    "    &rarr; &rarr; subsubdir1 <br>\n",
    "    &rarr; subdir2 <br>\n",
    "    &rarr; &rarr; subsubdir2 <br>\n",
    "    &rarr; &rarr; &rarr; file2.ext <br>\n",
    "\n",
    "    where arrows represents '\\t' and '\\n' are represented as linebreaks\n",
    "</blockquote>\n",
    "\n",
    "Here, we have ```dir``` as the only directory in the root. ```dir``` contains two subdirectories, ```subdir1``` and ```subdir2```. ```subdir1``` contains a file ```file1.ext``` and subdirectory ```subsubdir1```. ```subdir2``` contains a subdirectory ```subsubdir2```, which contains a file ```file2.ext```.\n",
    "\n",
    "If we were to write this representation in code, it will look like this: ```\"dir\\n\\tsubdir1\\n\\t\\tfile1.ext\\n\\t\\tsubsubdir1\\n\\tsubdir2\\n\\t\\tsubsubdir2\\n\\t\\t\\tfile2.ext\"```. Note that the ```'\\n'``` and ```'\\t'``` are the new-line and tab characters.\n",
    "\n",
    "Every file and directory has a __unique absolute path__ in the file system, which is the order of directories that must be opened to reach the file/directory itself, all concatenated by ```'/'s```. Using the above example, the absolute path to ```file2.ext``` is ```\"dir/subdir2/subsubdir2/file2.ext\"```. Each directory name consists of letters, digits, and/or spaces. Each file name is of the form ```name.extension```, where name and extension consist of letters, digits, and/or spaces.\n",
    "\n",
    "<blockquote>\n",
    "\n",
    "QUESTION: Given a string ```input``` representing the file system in the explained format, return the length of the __longest absolute path__ to a __file__ in the _abstracted file system_. If there is no __file__ in the system, return 0.\n",
    "\n",
    "</blockquote>\n",
    "\n",
    "__Note__ that the testcases are generated such that the file system is valid and no file or directory name has length 0.\n",
    "\n",
    "1. __EXAMPLE 1:__ <br>\n",
    "__Input__:<br> input = \"dir\\n\\tsubdir1\\n\\tsubdir2\\n\\t\\tfile.ext\"<br>\n",
    "__Output__:<br> 20<br>\n",
    "__Explanation__:<br> We have only one file, and the absolute path is \"dir/subdir2/file.ext\" of length 20.<br>\n",
    "\n",
    "1. __EXAMPLE 2:__\n",
    "__Input__:<br> input = \"dir\\n\\tsubdir1\\n\\t\\tfile1.ext\\n\\t\\tsubsubdir1\\n\\tsubdir2\\n\\t\\tsubsubdir2\\n\\t\\t\\tfile2.ext\"<br>\n",
    "__Output__:<br> 32<br>\n",
    "__Explanation__:<br> We have two files:<br>\n",
    "\"dir/subdir1/file1.ext\" of length 21<br>\n",
    "\"dir/subdir2/subsubdir2/file2.ext\" of length 32.<br>\n",
    "We return 32 since it is the longest absolute path to a file."
   ]
  },
  {
   "cell_type": "code",
   "execution_count": 8,
   "metadata": {},
   "outputs": [],
   "source": [
    "def lengthLongestPath(input:str, currentDir:str = '') -> int:\n",
    "    #\"dir\\n\\tsubdir1\\n\\tsubdir2\\n\\t\\tfile.ext\"\n",
    "    if '\\t' not in input and '\\n' not in input: return 0\n",
    "    currentDir = currentDir\n",
    "\n",
    "    for char in input:\n",
    "        if char != '\\\\':\n",
    "            currentDir += char\n",
    "        \n",
    "    return 1"
   ]
  },
  {
   "cell_type": "code",
   "execution_count": 9,
   "metadata": {},
   "outputs": [
    {
     "data": {
      "text/plain": [
       "1"
      ]
     },
     "execution_count": 9,
     "metadata": {},
     "output_type": "execute_result"
    }
   ],
   "source": [
    "testCase = \"dir\\n\\tsubdir1\\n\\tsubdir2\\n\\t\\tfile.ext\"\n",
    "\n",
    "lengthLongestPath(testCase)"
   ]
  },
  {
   "cell_type": "markdown",
   "metadata": {},
   "source": [
    "### 468. Validate IP Address (Done: 23/9/2024)\n",
    "\n",
    "- __Runtime:__ 36ms. Beats 49.68%\n",
    "- __Memory:__ 16.58MB. Beats 68.04%"
   ]
  },
  {
   "cell_type": "markdown",
   "metadata": {},
   "source": [
    "Given a string ```queryIP```, return ```\"IPv4\"``` if IP is a valid IPv4 address, ```\"IPv6\"``` if IP is a valid IPv6 address or ```\"Neither\"``` if IP is not a correct IP of any type.\n",
    "\n",
    "__A valid IPv4__ address is an IP in the form ```\"x1.x2.x3.x4\"``` where __0 <= x<sub>i</sub> <= 255__ and __x<sub>i</sub>__ cannot contain leading zeros. For example, ```\"192.168.1.1\"``` and ```\"192.168.1.0\"``` are **valid IPv4** addresses while ```\"192.168.01.1\"```, ```\"192.168.1.00\"```, and ```\"192.168@1.1\"``` are __invalid IPv4 addresses__.\n",
    "\n",
    "__A valid IPv6__ address is an IP in the form ```\"x1:x2:x3:x4:x5:x6:x7:x8\"``` where:\n",
    "\n",
    "    1 <= xi.length <= 4\n",
    "    xi is a hexadecimal string which may contain digits, lowercase English letter ('a' to 'f') and upper-case English letters ('A' to 'F').\n",
    "    Leading zeros are allowed in xi.\n",
    "\n",
    "For example, ```\"2001:0db8:85a3:0000:0000:8a2e:0370:7334\"``` and ```\"2001:db8:85a3:0:0:8A2E:0370:7334\"``` are valid IPv6 addresses, while ```\"2001:0db8:85a3::8A2E:037j:7334\"``` and ```\"02001:0db8:85a3:0000:0000:8a2e:0370:7334\"``` are invalid IPv6 addresses."
   ]
  },
  {
   "cell_type": "code",
   "execution_count": 28,
   "metadata": {},
   "outputs": [],
   "source": [
    "class Solution_468:\n",
    "    def validIPAddress(self, queryIP: str) -> str:\n",
    "        mainSepator = None\n",
    "\n",
    "        if ':' in queryIP: mainSepator = ':' # Working with IPv6\n",
    "        if '.' in queryIP: mainSepator = '.' # Working with IPv4\n",
    "        if mainSepator is None: return 'Neither' # Neither IPv4 or IPv6\n",
    "        \n",
    "        components = queryIP.split(sep=mainSepator)\n",
    "\n",
    "        if mainSepator == '.':\n",
    "            if len(components) != 4: return 'Neither'\n",
    "\n",
    "            for comp in components:\n",
    "                if len(comp) > 3 or len(comp) < 1: return 'Neither'\n",
    "                try:\n",
    "                    print(str(int(comp)))\n",
    "                    if str(int(comp)) != comp: return 'Neither'\n",
    "                    if int(comp) > 255: return 'Neither'\n",
    "                except ValueError:\n",
    "                    return 'Neither'\n",
    "            return 'IPv4'\n",
    "        \n",
    "        if mainSepator == ':':\n",
    "            if len(components) != 8: return 'Neither'\n",
    "\n",
    "            for comp in components:\n",
    "                if len(comp) > 4 or len(comp) < 1: return 'Neither'\n",
    "                try:\n",
    "                    int(comp, 16)\n",
    "                except ValueError:\n",
    "                    return 'Neither'\n",
    "                \n",
    "            return 'IPv6'"
   ]
  },
  {
   "cell_type": "code",
   "execution_count": null,
   "metadata": {},
   "outputs": [],
   "source": []
  },
  {
   "cell_type": "markdown",
   "metadata": {},
   "source": [
    "### 2134. Minimum Swaps to Group All 1's Together II (Incomplete)"
   ]
  },
  {
   "cell_type": "markdown",
   "metadata": {},
   "source": [
    "A __swap__ is defined as taking two __distinct__ positions in an array and swapping the values in them.\n",
    "\n",
    "A __circular__ array is defined as an array where we consider the __first__ element and the __last__ element to be __adjacent__.\n",
    "\n",
    "Given a __binary circular__ array ```nums```, return the _minimum number of swaps required to group all ```1's``` present in the array together at any location._"
   ]
  },
  {
   "cell_type": "code",
   "execution_count": 18,
   "metadata": {},
   "outputs": [],
   "source": [
    "testCase = [0,1,1,0,1,0,0]"
   ]
  },
  {
   "cell_type": "code",
   "execution_count": 19,
   "metadata": {},
   "outputs": [
    {
     "data": {
      "text/plain": [
       "3"
      ]
     },
     "execution_count": 19,
     "metadata": {},
     "output_type": "execute_result"
    }
   ],
   "source": [
    "numToSort = sum(testCase)\n",
    "numToSort"
   ]
  },
  {
   "cell_type": "code",
   "execution_count": 20,
   "metadata": {},
   "outputs": [
    {
     "name": "stdout",
     "output_type": "stream",
     "text": [
      "0\n"
     ]
    }
   ],
   "source": [
    "oneOrderCounter = 0\n",
    "\n",
    "for thing in testCase:\n",
    "    if thing == 1: oneOrderCounter += 1\n",
    "    if thing == 0: \n",
    "        if oneOrderCounter > 0: oneOrderCounter -= 1\n",
    "    if oneOrderCounter == numToSort: break\n",
    "\n",
    "print(oneOrderCounter)"
   ]
  },
  {
   "cell_type": "markdown",
   "metadata": {},
   "source": [
    "## Difficulty Hard"
   ]
  },
  {
   "cell_type": "markdown",
   "metadata": {},
   "source": [
    "### 4. Median of Two Sorted Arrays"
   ]
  },
  {
   "cell_type": "markdown",
   "metadata": {},
   "source": [
    "Given two sorted arrays ```nums1``` and ```nums2``` of size m and n respectively, return **the median** of the two sorted arrays.\n",
    "\n",
    "The overall run time complexity should be ```O(log (m+n))```."
   ]
  },
  {
   "cell_type": "code",
   "execution_count": 90,
   "metadata": {},
   "outputs": [],
   "source": [
    "class Solution_4:\n",
    "    def findMedianSortedArrays(self, nums1: list[int], nums2: list[int]) -> float:\n",
    "        combArr = nums1 + nums2\n",
    "        combArr.sort()\n",
    "\n",
    "        if len(combArr) % 2 == 0:\n",
    "            firstInd = (len(combArr) / 2) - 1\n",
    "            secondInd = firstInd + 1\n",
    "            total = (combArr[int(firstInd)] + combArr[int(secondInd)]) / 2\n",
    "            return float(total)\n",
    "        else:\n",
    "            mainInd = (len(combArr) / 2) - 0.5\n",
    "            return float(combArr[int(mainInd)])"
   ]
  },
  {
   "cell_type": "markdown",
   "metadata": {},
   "source": []
  },
  {
   "cell_type": "markdown",
   "metadata": {},
   "source": []
  },
  {
   "cell_type": "code",
   "execution_count": 37,
   "metadata": {},
   "outputs": [
    {
     "name": "stdout",
     "output_type": "stream",
     "text": [
      "None\n",
      "[1, 1, 2, 3, 4, 4, 5, 6]\n"
     ]
    }
   ],
   "source": [
    "a = [[1,4,5],[1,3,4],[2,6]]\n",
    "\n",
    "b = []\n",
    "for things in a:\n",
    "    for thing in things:\n",
    "        b.append(thing)\n",
    "\n",
    "print(b.sort())\n",
    "print(b)"
   ]
  },
  {
   "cell_type": "markdown",
   "metadata": {},
   "source": [
    "### 2392. Build a Matrix with Conditions (Incomplete)"
   ]
  },
  {
   "cell_type": "markdown",
   "metadata": {},
   "source": [
    "You are given a **positive** integer ```k```. You are also given:\n",
    "\n",
    "- a 2D integer array ```rowConditions``` of size ```n``` where ```rowConditions[i] = [abovei, belowi]```, and\n",
    "- a 2D integer array ```colConditions``` of size ```m``` where ```colConditions[i] = [lefti, righti]```.\n",
    "\n",
    "The two arrays contain integers from ```1``` to ```k```.\n",
    "\n",
    "You have to build a ```k x k``` matrix that contains each of the numbers from ```1``` to ```k``` exactly once. The remaining cells should have the value ```0```.\n",
    "\n",
    "The matrix should also satisfy the following conditions:\n",
    "\n",
    "- The number above<sub>i</sub> should appear in a **row** that is strictly **above** the row at which the number below<sub>i</sub> appears for all ```i``` from ```0``` to ```n - 1```.\n",
    "- The number left<sub>i</sub> should appear in a **column** that is strictly **left** of the column at which the number right<sub>i</sub> appears for all ```i``` from ```0``` to ```m - 1```.\n",
    "\n",
    "Return _**any** matrix that satisfies the conditions._ If no answer exists, return an empty matrix.\n",
    "\n",
    "**Constraints:**\n",
    "\n",
    "- ```2 <= k <= 400```\n",
    "- ```1 <= rowConditions.length, colConditions.length <= 104```\n",
    "- ```rowConditions[i].length == colConditions[i].length == 2```\n",
    "- ```1 <= abovei, belowi, lefti, righti <= k```\n",
    "- ```abovei != belowi```\n",
    "- ```lefti != righti```\n"
   ]
  },
  {
   "cell_type": "code",
   "execution_count": 91,
   "metadata": {},
   "outputs": [],
   "source": [
    "rowConditions = [[1,2],[3,2]]"
   ]
  },
  {
   "cell_type": "code",
   "execution_count": 92,
   "metadata": {},
   "outputs": [
    {
     "name": "stdout",
     "output_type": "stream",
     "text": [
      "[1, 2]\n",
      "[3, 2]\n"
     ]
    }
   ],
   "source": [
    "for row in rowConditions:\n",
    "    print(row)"
   ]
  },
  {
   "cell_type": "code",
   "execution_count": 93,
   "metadata": {},
   "outputs": [
    {
     "name": "stdout",
     "output_type": "stream",
     "text": [
      "1\n",
      "2\n",
      "3\n",
      "2\n"
     ]
    }
   ],
   "source": [
    "for row in rowConditions:\n",
    "    for cond in row:\n",
    "        print(cond)"
   ]
  },
  {
   "cell_type": "code",
   "execution_count": 102,
   "metadata": {},
   "outputs": [
    {
     "data": {
      "text/plain": [
       "[[1, 2, 3], [4, 5, 6], [7, 8, 9]]"
      ]
     },
     "execution_count": 102,
     "metadata": {},
     "output_type": "execute_result"
    }
   ],
   "source": [
    "a = [1,2,3]\n",
    "b = [4,5,6]\n",
    "d = [7,8,9]\n",
    "c = [a,b,d]\n",
    "c"
   ]
  },
  {
   "cell_type": "code",
   "execution_count": 103,
   "metadata": {},
   "outputs": [
    {
     "data": {
      "text/plain": [
       "2"
      ]
     },
     "execution_count": 103,
     "metadata": {},
     "output_type": "execute_result"
    }
   ],
   "source": [
    "c[0][1]"
   ]
  },
  {
   "cell_type": "code",
   "execution_count": 106,
   "metadata": {},
   "outputs": [],
   "source": [
    "def makeMat(k):\n",
    "    \n",
    "    actualThing = []\n",
    "    for _ in range(k):\n",
    "        emptyThing = []\n",
    "        for _ in range(k):\n",
    "            emptyThing.append(0)\n",
    "        actualThing.append(emptyThing)\n",
    "\n",
    "    return actualThing\n",
    "        "
   ]
  },
  {
   "cell_type": "code",
   "execution_count": 107,
   "metadata": {},
   "outputs": [
    {
     "data": {
      "text/plain": [
       "[[0, 0, 0], [0, 0, 0], [0, 0, 0]]"
      ]
     },
     "execution_count": 107,
     "metadata": {},
     "output_type": "execute_result"
    }
   ],
   "source": [
    "myMat = makeMat(3)\n",
    "myMat"
   ]
  },
  {
   "cell_type": "code",
   "execution_count": 109,
   "metadata": {},
   "outputs": [],
   "source": [
    "def makeDict(k):\n",
    "    myDict = {}\n",
    "    for i in range(0,k+1):\n",
    "        myDict[i] = -1\n",
    "\n",
    "    return myDict"
   ]
  },
  {
   "cell_type": "code",
   "execution_count": 110,
   "metadata": {},
   "outputs": [
    {
     "data": {
      "text/plain": [
       "{0: -1, 1: -1, 2: -1, 3: -1}"
      ]
     },
     "execution_count": 110,
     "metadata": {},
     "output_type": "execute_result"
    }
   ],
   "source": [
    "makeDict(3)"
   ]
  },
  {
   "cell_type": "code",
   "execution_count": 108,
   "metadata": {},
   "outputs": [
    {
     "data": {
      "text/plain": [
       "{1: 2, 3: 2}"
      ]
     },
     "execution_count": 108,
     "metadata": {},
     "output_type": "execute_result"
    }
   ],
   "source": [
    "maybeInd = {}\n",
    "k = 3\n",
    "maxInd = k - 1\n",
    "\n",
    "\n",
    "for cond in rowConditions:\n",
    "\n",
    "    if cond[0] not in maybeInd:\n",
    "        maybeInd[cond[0]] = cond[1]\n",
    "\n",
    "maybeInd"
   ]
  },
  {
   "cell_type": "code",
   "execution_count": null,
   "metadata": {},
   "outputs": [],
   "source": []
  }
 ],
 "metadata": {
  "kernelspec": {
   "display_name": ".venv",
   "language": "python",
   "name": "python3"
  },
  "language_info": {
   "codemirror_mode": {
    "name": "ipython",
    "version": 3
   },
   "file_extension": ".py",
   "mimetype": "text/x-python",
   "name": "python",
   "nbconvert_exporter": "python",
   "pygments_lexer": "ipython3",
   "version": "3.12.5"
  }
 },
 "nbformat": 4,
 "nbformat_minor": 2
}
